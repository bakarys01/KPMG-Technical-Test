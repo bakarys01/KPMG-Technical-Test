{
 "cells": [
  {
   "cell_type": "markdown",
   "metadata": {},
   "source": [
    "<p style='text-align: center; font-weight: 900; font-size: 30px'>----------------------------------------</p>\n",
    "<p style='text-align: center; font-weight: 900; font-size: 30px'>Etude de cas #2</p>\n",
    "<p style='text-align: center; font-weight: 900; font-size: 30px'>----------------------------------------</p>\n",
    "\n",
    "### 3 datasets sont disponible au format .csv dans votre répertore data/\n",
    "\n",
    "#### * airports_full\n",
    "#### * flights_small\n",
    "#### * planes\n",
    "\n",
    "### 1 - Recherchez des informations sur ces données publiques pour comprendre le contenu de chaque champ\n",
    "\n",
    "#### Ressources possibles:\n",
    "\n",
    "#### * https://openflights.org/data.html#airline\n",
    "\n",
    "#### * https://cran.r-project.org/web/packages/nycflights13/nycflights13.pdf\n",
    "\n",
    "### 2 - Procédez à une analyse descriptive\n",
    "\n",
    "### 3 - Proposez un modèle prédictif des retards"
   ]
  },
  {
   "cell_type": "code",
   "execution_count": null,
   "metadata": {},
   "outputs": [],
   "source": [
    "#####################\n",
    "# Charger les données\n",
    "#####################\n",
    "import pandas as pd\n",
    "\n",
    "airports = pd.read_csv('data/airports_full.csv')\n",
    "flights = pd.read_csv('data/flights_small.csv')\n",
    "planes = pd.read_csv('data/planes.csv')"
   ]
  },
  {
   "cell_type": "code",
   "execution_count": null,
   "metadata": {},
   "outputs": [],
   "source": [
    "# Charger les librairies (choix libre)"
   ]
  }
 ],
 "metadata": {
  "kernelspec": {
   "display_name": "Python 3",
   "language": "python",
   "name": "python3"
  },
  "language_info": {
   "codemirror_mode": {
    "name": "ipython",
    "version": 3
   },
   "file_extension": ".py",
   "mimetype": "text/x-python",
   "name": "python",
   "nbconvert_exporter": "python",
   "pygments_lexer": "ipython3",
   "version": "3.7.6"
  }
 },
 "nbformat": 4,
 "nbformat_minor": 4
}
