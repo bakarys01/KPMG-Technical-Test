{
 "cells": [
  {
   "cell_type": "markdown",
   "metadata": {},
   "source": [
    "### Dans chaque bloc de code ci-dessous, compléter la (ou les) ligne(s) contenant la mention <span style='color: red; font-style: italic;'>'<compléter>'</span>, de manière à obtenir le résultat attendu (<i>Expected output</i>)"
   ]
  },
  {
   "cell_type": "markdown",
   "metadata": {},
   "source": [
    "### Q-1"
   ]
  },
  {
   "cell_type": "code",
   "execution_count": null,
   "metadata": {},
   "outputs": [],
   "source": [
    "class Planet:\n",
    "    def __init__(self, name, diameter_km):\n",
    "        self.name = name\n",
    "        self.diameter_km = diameter_km\n",
    "        \n",
    "e = Planet('<compléter>')\n",
    "\n",
    "e.name, e.diameter_km"
   ]
  },
  {
   "cell_type": "raw",
   "metadata": {},
   "source": [
    "Expected output:\n",
    "\n",
    "('Earth', 12742)"
   ]
  },
  {
   "cell_type": "markdown",
   "metadata": {},
   "source": [
    "### Q-2"
   ]
  },
  {
   "cell_type": "code",
   "execution_count": null,
   "metadata": {},
   "outputs": [],
   "source": [
    "lst = [1, 2, 3, 4]\n",
    "\n",
    "lst_iterator = '<compléter>'(lst)\n",
    "\n",
    "next(lst_iterator)"
   ]
  },
  {
   "cell_type": "raw",
   "metadata": {},
   "source": [
    "Expected output\n",
    "\n",
    "1"
   ]
  },
  {
   "cell_type": "markdown",
   "metadata": {},
   "source": [
    "### Q-3"
   ]
  },
  {
   "cell_type": "code",
   "execution_count": null,
   "metadata": {},
   "outputs": [],
   "source": [
    "def add_many('<compléter>'):\n",
    "    s = 0\n",
    "    for n in args:\n",
    "        s += n\n",
    "    print(s)\n",
    "\n",
    "add_many(100, 50, 3)"
   ]
  },
  {
   "cell_type": "raw",
   "metadata": {},
   "source": [
    "Expected output:\n",
    "\n",
    "153"
   ]
  },
  {
   "cell_type": "markdown",
   "metadata": {},
   "source": [
    "### Q-4"
   ]
  },
  {
   "cell_type": "code",
   "execution_count": null,
   "metadata": {},
   "outputs": [],
   "source": [
    "class Planet:\n",
    "    '<compléter>'\n",
    "    \n",
    "    def __init__(self, name):\n",
    "        self.name = name\n",
    "\n",
    "n = Planet('Neptune')\n",
    "\n",
    "n.family"
   ]
  },
  {
   "cell_type": "raw",
   "metadata": {},
   "source": [
    "Expected output:\n",
    "\n",
    "'astronomical body'"
   ]
  },
  {
   "cell_type": "markdown",
   "metadata": {},
   "source": [
    "### Q-5"
   ]
  },
  {
   "cell_type": "code",
   "execution_count": null,
   "metadata": {},
   "outputs": [],
   "source": [
    "dict_gen = {'<compléter>' for num in range(5) }\n",
    "\n",
    "dict_gen"
   ]
  },
  {
   "cell_type": "raw",
   "metadata": {},
   "source": [
    "Expected output:\n",
    "\n",
    "{0: 0, 1: 10, 2: 20, 3: 30, 4: 40}"
   ]
  },
  {
   "cell_type": "markdown",
   "metadata": {},
   "source": [
    "### Q-6"
   ]
  },
  {
   "cell_type": "code",
   "execution_count": null,
   "metadata": {},
   "outputs": [],
   "source": [
    "class Cat:\n",
    "    '<compléter>'\n",
    "        return 'meow!'\n",
    "\n",
    "s = Cat()\n",
    "\n",
    "s.meow()"
   ]
  },
  {
   "cell_type": "raw",
   "metadata": {},
   "source": [
    "Expected output:\n",
    "\n",
    "'meow!'"
   ]
  },
  {
   "cell_type": "markdown",
   "metadata": {},
   "source": [
    "### Q-7"
   ]
  },
  {
   "cell_type": "code",
   "execution_count": null,
   "metadata": {},
   "outputs": [],
   "source": [
    "x = (1, 2, 3, 2)\n",
    "\n",
    "s = '<compléter>'(x)\n",
    "\n",
    "s"
   ]
  },
  {
   "cell_type": "raw",
   "metadata": {},
   "source": [
    "Expected output:\n",
    "\n",
    "{1, 2, 3}"
   ]
  },
  {
   "cell_type": "markdown",
   "metadata": {},
   "source": [
    "### Q-8"
   ]
  },
  {
   "cell_type": "code",
   "execution_count": null,
   "metadata": {},
   "outputs": [],
   "source": [
    "import pandas as pd\n",
    "\n",
    "a = ('a', [1, 2])\n",
    "b = ('b', [10, 20])\n",
    "\n",
    "data = '<compléter>'([a, b])\n",
    "\n",
    "pd.DataFrame(data)"
   ]
  },
  {
   "cell_type": "raw",
   "metadata": {},
   "source": [
    "Expected output:\n",
    "\n",
    "   a   b\n",
    "0  1  10\n",
    "1  2  20"
   ]
  },
  {
   "cell_type": "markdown",
   "metadata": {},
   "source": [
    "### Q-9"
   ]
  },
  {
   "cell_type": "code",
   "execution_count": null,
   "metadata": {},
   "outputs": [],
   "source": [
    "f = '<compléter>': x * y\n",
    "\n",
    "f(3,3)"
   ]
  },
  {
   "cell_type": "raw",
   "metadata": {},
   "source": [
    "Expected output:\n",
    "\n",
    "9"
   ]
  },
  {
   "cell_type": "markdown",
   "metadata": {},
   "source": [
    "### Q-10"
   ]
  },
  {
   "cell_type": "code",
   "execution_count": null,
   "metadata": {},
   "outputs": [],
   "source": [
    "list_keys = ['a', 'b']\n",
    "list_values = [['x', 'y'], [1, 2]]\n",
    "\n",
    "'<compléter>'('<compléter>'(list_keys, list_values))"
   ]
  },
  {
   "cell_type": "raw",
   "metadata": {},
   "source": [
    "Expected output:\n",
    "\n",
    "{'a': ['x', 'y'], 'b': [1, 2]}"
   ]
  },
  {
   "cell_type": "markdown",
   "metadata": {},
   "source": [
    "### Load packages"
   ]
  },
  {
   "cell_type": "code",
   "execution_count": null,
   "metadata": {},
   "outputs": [],
   "source": [
    "import pandas as pd\n",
    "import numpy as np\n",
    "import datetime as dt"
   ]
  },
  {
   "cell_type": "markdown",
   "metadata": {},
   "source": [
    "### Q-11"
   ]
  },
  {
   "cell_type": "code",
   "execution_count": null,
   "metadata": {},
   "outputs": [],
   "source": [
    "df = pd.'<compléter>'(\"data/owners.csv\")\n",
    "df"
   ]
  },
  {
   "cell_type": "raw",
   "metadata": {},
   "source": [
    "Expected output:\n",
    "\n",
    "        owner language      repo  stars  commits\n",
    "0  pandas-dev   python    pandas  17800      133\n",
    "1   tidyverse        R     dplyr   2800       52\n",
    "2   tidyverse        R   ggplot2   3500       59\n",
    "3      has2k1   python  plotnine   1450       38"
   ]
  },
  {
   "cell_type": "markdown",
   "metadata": {},
   "source": [
    "### Q-12"
   ]
  },
  {
   "cell_type": "code",
   "execution_count": null,
   "metadata": {},
   "outputs": [],
   "source": [
    "df.iloc['<compléter>']"
   ]
  },
  {
   "cell_type": "raw",
   "metadata": {},
   "source": [
    "Expected output:\n",
    "\n",
    "       repo\n",
    "0    pandas\n",
    "1     dplyr\n",
    "2   ggplot2\n",
    "3  plotnine"
   ]
  },
  {
   "cell_type": "markdown",
   "metadata": {},
   "source": [
    "### Q-13"
   ]
  },
  {
   "cell_type": "code",
   "execution_count": null,
   "metadata": {},
   "outputs": [],
   "source": [
    "df.groupby('language')'<compléter>'"
   ]
  },
  {
   "cell_type": "raw",
   "metadata": {},
   "source": [
    "Expected output:\n",
    "\n",
    "language\n",
    "R          6300\n",
    "python    19250\n",
    "Name: stars, dtype: int64"
   ]
  },
  {
   "cell_type": "markdown",
   "metadata": {},
   "source": [
    "### Q-14"
   ]
  },
  {
   "cell_type": "code",
   "execution_count": null,
   "metadata": {},
   "outputs": [],
   "source": [
    "df.groupby(\"language\")'<compléter>'.agg('<compléter>')"
   ]
  },
  {
   "cell_type": "raw",
   "metadata": {},
   "source": [
    "Expected output:\n",
    "\n",
    "         stars               commits          \n",
    "           min    max    sum     min  max  sum\n",
    "language                                      \n",
    "R         2800   3500   6300      52   59  111\n",
    "python    1450  17800  19250      38  133  171"
   ]
  },
  {
   "cell_type": "markdown",
   "metadata": {},
   "source": [
    "### Q-15"
   ]
  },
  {
   "cell_type": "code",
   "execution_count": null,
   "metadata": {},
   "outputs": [],
   "source": [
    "print(df[('<compléter>'==\"python\") '<compléter>' ('<compléter>'>5000)])"
   ]
  },
  {
   "cell_type": "raw",
   "metadata": {},
   "source": [
    "Expected output:\n",
    "\n",
    "        owner language    repo  stars  commits\n",
    "0  pandas-dev   python  pandas  17800      133"
   ]
  },
  {
   "cell_type": "markdown",
   "metadata": {},
   "source": [
    "### Q-16"
   ]
  },
  {
   "cell_type": "code",
   "execution_count": null,
   "metadata": {},
   "outputs": [],
   "source": [
    "medals = pd.read_csv('data/medals.csv')\n",
    "medals"
   ]
  },
  {
   "cell_type": "code",
   "execution_count": null,
   "metadata": {},
   "outputs": [],
   "source": [
    "medals.pivot_table(\n",
    "    values = '<compléter>',\n",
    "    index = '<compléter>',\n",
    "    columns = '<compléter>',\n",
    "    aggfunc = '<compléter>'\n",
    ")"
   ]
  },
  {
   "cell_type": "raw",
   "metadata": {},
   "source": [
    "Expected output:\n",
    "\n",
    "medal  Bronze  Gold  Silver\n",
    "team                       \n",
    "A         NaN   1.0     2.0\n",
    "B         1.0   1.0     1.0"
   ]
  },
  {
   "cell_type": "markdown",
   "metadata": {},
   "source": [
    "### Q-17"
   ]
  },
  {
   "cell_type": "code",
   "execution_count": null,
   "metadata": {},
   "outputs": [],
   "source": [
    "data = pd.Series(['apple','banana','apple', 'banana'])\n",
    "data.'<compléter>'()"
   ]
  },
  {
   "cell_type": "raw",
   "metadata": {},
   "source": [
    "Expected output:\n",
    "\n",
    "0     APPLE\n",
    "1    BANANA\n",
    "2     APPLE\n",
    "3    BANANA\n",
    "dtype: object"
   ]
  },
  {
   "cell_type": "markdown",
   "metadata": {},
   "source": [
    "### Q-18"
   ]
  },
  {
   "cell_type": "code",
   "execution_count": null,
   "metadata": {},
   "outputs": [],
   "source": [
    "data.'<compléter>'('ba')"
   ]
  },
  {
   "cell_type": "raw",
   "metadata": {},
   "source": [
    "Expected output:\n",
    "\n",
    "0    False\n",
    "1     True\n",
    "2    False\n",
    "3     True\n",
    "dtype: bool"
   ]
  },
  {
   "cell_type": "markdown",
   "metadata": {},
   "source": [
    "### Q-19"
   ]
  },
  {
   "cell_type": "code",
   "execution_count": null,
   "metadata": {},
   "outputs": [],
   "source": [
    "df = pd.DataFrame({'eggs': [47, 110, 221], 'salt': [12.0, 50.0, 89.0]}, index = ['jan', 'feb', 'mar'])\n",
    "df"
   ]
  },
  {
   "cell_type": "code",
   "execution_count": null,
   "metadata": {},
   "outputs": [],
   "source": [
    "salt_classes = {True: 'high', False: 'low'}\n",
    "df['salt level'] = (df['salt'] > 80).'<compléter>'\n",
    "print(df)"
   ]
  },
  {
   "cell_type": "raw",
   "metadata": {},
   "source": [
    "Expected output:\n",
    "\n",
    "     eggs  salt salt level\n",
    "jan    47  12.0        low\n",
    "feb   110  50.0        low\n",
    "mar   221  89.0       high"
   ]
  },
  {
   "cell_type": "markdown",
   "metadata": {},
   "source": [
    "### Q-20"
   ]
  },
  {
   "cell_type": "code",
   "execution_count": null,
   "metadata": {},
   "outputs": [],
   "source": [
    "start = dt.'<compléter>'(2010, 10, 5, 13, 30, 2)\n",
    "print(start)"
   ]
  },
  {
   "cell_type": "raw",
   "metadata": {},
   "source": [
    "Expected output:\n",
    "\n",
    "2010-10-05 13:30:02"
   ]
  },
  {
   "cell_type": "markdown",
   "metadata": {},
   "source": [
    "### Q-21"
   ]
  },
  {
   "cell_type": "code",
   "execution_count": null,
   "metadata": {},
   "outputs": [],
   "source": [
    "x = pd.Series([\"12/01/2017\", \"09/03/2018\", \"23/11/2019\"]) \n",
    "\n",
    "pd.to_datetime('<compléter>')"
   ]
  },
  {
   "cell_type": "raw",
   "metadata": {},
   "source": [
    "Expected output:\n",
    "\n",
    "0   2017-01-12\n",
    "1   2018-03-09\n",
    "2   2019-11-23\n",
    "dtype: datetime64[ns]"
   ]
  },
  {
   "cell_type": "markdown",
   "metadata": {},
   "source": [
    "### Q-22"
   ]
  },
  {
   "cell_type": "code",
   "execution_count": null,
   "metadata": {},
   "outputs": [],
   "source": [
    "eggs = pd.DataFrame({'eggs': [10, 20]})\n",
    "salt = pd.DataFrame({'salt': [120, 240]})\n",
    "pd.concat('<compléter>')"
   ]
  },
  {
   "cell_type": "raw",
   "metadata": {},
   "source": [
    "Expected output:\n",
    "\n",
    "   eggs  salt\n",
    "0    10   120\n",
    "1    20   240"
   ]
  },
  {
   "cell_type": "markdown",
   "metadata": {},
   "source": [
    "### Q-23"
   ]
  },
  {
   "cell_type": "code",
   "execution_count": null,
   "metadata": {},
   "outputs": [],
   "source": [
    "df_1 = pd.DataFrame({'month': ['jan', 'feb'], 'eggs': [10, 12]})\n",
    "df_2 = pd.DataFrame({'month': ['mar', 'apr'], 'eggs': [15, 18]})\n",
    "df_1.append('<compléter>')"
   ]
  },
  {
   "cell_type": "raw",
   "metadata": {},
   "source": [
    "Expected output:\n",
    "\n",
    "  month  eggs\n",
    "0   jan    10\n",
    "1   feb    12\n",
    "2   mar    15\n",
    "3   apr    18"
   ]
  },
  {
   "cell_type": "markdown",
   "metadata": {},
   "source": [
    "### Q-24"
   ]
  },
  {
   "cell_type": "code",
   "execution_count": null,
   "metadata": {},
   "outputs": [],
   "source": [
    "df_1 = pd.DataFrame({'month': ['jan', 'feb'], 'eggs': [10, 12]})\n",
    "df_2 = pd.DataFrame({'month': ['jan', 'mar'], 'salt': [152, 187]})\n",
    "df_1.merge('<compléter>')"
   ]
  },
  {
   "cell_type": "raw",
   "metadata": {},
   "source": [
    "Expected ouput:\n",
    "\n",
    "  month  eggs   salt\n",
    "0   jan  10.0  152.0\n",
    "1   feb  12.0    NaN\n",
    "2   mar   NaN  187.0"
   ]
  },
  {
   "cell_type": "markdown",
   "metadata": {},
   "source": [
    "### Q-25"
   ]
  },
  {
   "cell_type": "code",
   "execution_count": null,
   "metadata": {},
   "outputs": [],
   "source": [
    "df_1.merge('<compléter>')"
   ]
  },
  {
   "cell_type": "raw",
   "metadata": {},
   "source": [
    "Expected output:\n",
    "    \n",
    "  month  eggs   salt\n",
    "0   jan    10  152.0\n",
    "1   feb    12    NaN"
   ]
  },
  {
   "cell_type": "markdown",
   "metadata": {},
   "source": [
    "### Q-26"
   ]
  },
  {
   "cell_type": "code",
   "execution_count": null,
   "metadata": {},
   "outputs": [],
   "source": [
    "df_1.merge('<compléter>')"
   ]
  },
  {
   "cell_type": "raw",
   "metadata": {},
   "source": [
    "Expected output:\n",
    "    \n",
    "  month  eggs  salt\n",
    "0   jan    10   152"
   ]
  },
  {
   "cell_type": "markdown",
   "metadata": {},
   "source": [
    "### Q-27"
   ]
  },
  {
   "cell_type": "code",
   "execution_count": null,
   "metadata": {},
   "outputs": [],
   "source": [
    "df = pd.read_csv('data/df_NA_1.csv')\n",
    "df"
   ]
  },
  {
   "cell_type": "code",
   "execution_count": null,
   "metadata": {},
   "outputs": [],
   "source": [
    "df.'<compléter>'(80)"
   ]
  },
  {
   "cell_type": "raw",
   "metadata": {},
   "source": [
    "Expected output:\n",
    "\n",
    "     id  score\n",
    "0  7134   75.0\n",
    "1  4020   94.0\n",
    "2  6757   80.0\n",
    "3  2561   91.0\n",
    "4  6875   80.0"
   ]
  },
  {
   "cell_type": "markdown",
   "metadata": {},
   "source": [
    "### Q-28"
   ]
  },
  {
   "cell_type": "code",
   "execution_count": null,
   "metadata": {},
   "outputs": [],
   "source": [
    "keys = ['Australia', 'Spain', 'France', 'Italy']\n",
    "values = [24.6, 46.7, 67.0, 60.6]\n",
    "df = pd.DataFrame(dict(zip(keys, values)), index=[0])\n",
    "df"
   ]
  },
  {
   "cell_type": "code",
   "execution_count": null,
   "metadata": {},
   "outputs": [],
   "source": [
    "pd.melt('<compléter>')"
   ]
  },
  {
   "cell_type": "raw",
   "metadata": {},
   "source": [
    "Expected output:\n",
    "\n",
    "     country  population\n",
    "0  Australia        24.6\n",
    "1      Spain        46.7\n",
    "2     France        67.0\n",
    "3      Italy        60.6"
   ]
  },
  {
   "cell_type": "markdown",
   "metadata": {},
   "source": [
    "### Q-29"
   ]
  },
  {
   "cell_type": "code",
   "execution_count": null,
   "metadata": {},
   "outputs": [],
   "source": [
    "keys = ['first_name', 'last_name']\n",
    "values = [['Roger', 'Rafael', 'Novak'], ['Federer', 'Nadal', 'Djokovic']]\n",
    "df = pd.DataFrame(dict(zip(keys, values)))\n",
    "df"
   ]
  },
  {
   "cell_type": "code",
   "execution_count": null,
   "metadata": {},
   "outputs": [],
   "source": [
    "df['full_name'] = df['first_name'].'<compléter>'\n",
    "print(df)"
   ]
  },
  {
   "cell_type": "raw",
   "metadata": {},
   "source": [
    "Expected output:\n",
    "\n",
    "  first_name last_name       full_name\n",
    "0      Roger   Federer   Roger Federer\n",
    "1     Rafael     Nadal    Rafael Nadal\n",
    "2      Novak  Djokovic  Novak Djokovic"
   ]
  },
  {
   "cell_type": "markdown",
   "metadata": {},
   "source": [
    "### Q-30"
   ]
  },
  {
   "cell_type": "code",
   "execution_count": null,
   "metadata": {},
   "outputs": [],
   "source": [
    "df.full_name.'<compléter>'(' ', expand=True)"
   ]
  },
  {
   "cell_type": "raw",
   "metadata": {},
   "source": [
    "Expected output:\n",
    "    \n",
    "        0         1\n",
    "0   Roger   Federer\n",
    "1  Rafael     Nadal\n",
    "2   Novak  Djokovic"
   ]
  },
  {
   "cell_type": "markdown",
   "metadata": {},
   "source": [
    "## Machine learning basics"
   ]
  },
  {
   "cell_type": "markdown",
   "metadata": {},
   "source": [
    "### Load packages"
   ]
  },
  {
   "cell_type": "code",
   "execution_count": null,
   "metadata": {},
   "outputs": [],
   "source": [
    "import pandas as pd\n",
    "import numpy as np\n",
    "import matplotlib.pyplot as plt\n",
    "from sklearn import linear_model as lm\n",
    "from sklearn.model_selection import train_test_split\n",
    "\n",
    "%matplotlib inline"
   ]
  },
  {
   "cell_type": "code",
   "execution_count": null,
   "metadata": {},
   "outputs": [],
   "source": [
    "df = pd.read_csv('data/linear_reg_data.csv')\n",
    "x = np.array(df.x).reshape(-1, 1)\n",
    "y = np.array(df.y)"
   ]
  },
  {
   "cell_type": "markdown",
   "metadata": {},
   "source": [
    "### Q-31 : Construire un scatter plot "
   ]
  },
  {
   "cell_type": "code",
   "execution_count": null,
   "metadata": {},
   "outputs": [],
   "source": [
    "plt.scatter(x, y)\n",
    "'<compléter>'\n",
    "plt.show()"
   ]
  },
  {
   "cell_type": "markdown",
   "metadata": {},
   "source": [
    "#### Expected output:\n",
    "<img src='figures/lin_reg_0.png?1'>"
   ]
  },
  {
   "cell_type": "markdown",
   "metadata": {},
   "source": [
    "### Q-32 : Construire des données d'apprentissage et test (conserver les proportions par défaut)"
   ]
  },
  {
   "cell_type": "code",
   "execution_count": null,
   "metadata": {},
   "outputs": [],
   "source": [
    "x_train, x_test, y_train, y_test = '<compléter>'(x, y, random_state=42)"
   ]
  },
  {
   "cell_type": "markdown",
   "metadata": {},
   "source": [
    "### Q-33 : initialiser et entrainer un modèle de régression linéaire sur les données d'apprentissage"
   ]
  },
  {
   "cell_type": "code",
   "execution_count": null,
   "metadata": {},
   "outputs": [],
   "source": [
    "lin_reg = lm.LinearRegression()\n",
    "lin_reg.fit('<compléter>')"
   ]
  },
  {
   "cell_type": "markdown",
   "metadata": {},
   "source": [
    "### Q-34 : renvoyer le coefficient de détermination de la régression"
   ]
  },
  {
   "cell_type": "code",
   "execution_count": null,
   "metadata": {},
   "outputs": [],
   "source": [
    "lin_reg.score('<compléter>')"
   ]
  },
  {
   "cell_type": "raw",
   "metadata": {},
   "source": [
    "Expected output:\n",
    "\n",
    "0.893653472183284"
   ]
  },
  {
   "cell_type": "markdown",
   "metadata": {},
   "source": [
    "### Q-35 : implémenter unr fonction RMSE() qui renvoie la moyenne des écarts quadratiques"
   ]
  },
  {
   "cell_type": "code",
   "execution_count": null,
   "metadata": {},
   "outputs": [],
   "source": [
    "fitted = lin_reg.predict('<compléter>')\n",
    "\n",
    "def RMSE(obs, fitted):\n",
    "    \"\"\"Compute the RMSE, given the observed and fitted values\"\"\"\n",
    "    pass\n",
    "\n",
    "RMSE(y_test, fitted)"
   ]
  },
  {
   "cell_type": "raw",
   "metadata": {},
   "source": [
    "Expected output:\n",
    "\n",
    "2.0311732316663704"
   ]
  },
  {
   "cell_type": "markdown",
   "metadata": {},
   "source": [
    "### Q-36 : renvoyer l'ordonnée à l'origine (intercept) et la pente de la droite de régression"
   ]
  },
  {
   "cell_type": "code",
   "execution_count": null,
   "metadata": {},
   "outputs": [],
   "source": [
    "print('y-intercept: %.3f' % lin_reg.'<compléter>')\n",
    "print('slope: %.3f' % lin_reg.'<compléter>')"
   ]
  },
  {
   "cell_type": "markdown",
   "metadata": {},
   "source": [
    "### Q-37 : représenter le nuage de points et la droite de régression"
   ]
  },
  {
   "cell_type": "code",
   "execution_count": null,
   "metadata": {},
   "outputs": [],
   "source": [
    "plt.scatter(x, y)\n",
    "'<compléter>'\n",
    "plt.show()"
   ]
  },
  {
   "cell_type": "markdown",
   "metadata": {},
   "source": [
    "#### Expected output:\n",
    "<img src='figures/lin_reg_1.png?1'>"
   ]
  },
  {
   "cell_type": "markdown",
   "metadata": {},
   "source": [
    "### Lecture des données"
   ]
  },
  {
   "cell_type": "code",
   "execution_count": null,
   "metadata": {},
   "outputs": [],
   "source": [
    "df = pd.read_csv('data/logistic_reg_data.csv')\n",
    "df.head()"
   ]
  },
  {
   "cell_type": "markdown",
   "metadata": {},
   "source": [
    "### Q-38 : Assigner les colonnes df.x et df.y aux variables x et y, respectivement"
   ]
  },
  {
   "cell_type": "code",
   "execution_count": null,
   "metadata": {},
   "outputs": [],
   "source": [
    "x = '<compléter>'\n",
    "y = '<compléter>'"
   ]
  },
  {
   "cell_type": "markdown",
   "metadata": {},
   "source": [
    "### Q-39 : représenter les données"
   ]
  },
  {
   "cell_type": "code",
   "execution_count": null,
   "metadata": {},
   "outputs": [],
   "source": [
    "'<compléter>'"
   ]
  },
  {
   "cell_type": "markdown",
   "metadata": {},
   "source": [
    "#### Expected output:\n",
    "<img src='figures/log_reg_0.png?1'>"
   ]
  },
  {
   "cell_type": "markdown",
   "metadata": {},
   "source": [
    "### Q-39 : Construire des données d'apprentissage et de test (garder les proportions pas défaut)"
   ]
  },
  {
   "cell_type": "code",
   "execution_count": null,
   "metadata": {},
   "outputs": [],
   "source": [
    "'<compléter>' = train_test_split(x, y, random_state=42)"
   ]
  },
  {
   "cell_type": "markdown",
   "metadata": {},
   "source": [
    "### Q-40 : Initialier et entrainer le modèle sur les données d'apprentissage"
   ]
  },
  {
   "cell_type": "code",
   "execution_count": null,
   "metadata": {},
   "outputs": [],
   "source": [
    "log_reg = lm.LogisticRegression()\n",
    "log_reg.'<compléter>'('<compléter>')"
   ]
  },
  {
   "cell_type": "markdown",
   "metadata": {},
   "source": [
    "### Q-41  : renvoyer la performance du modèle (accuracy)"
   ]
  },
  {
   "cell_type": "code",
   "execution_count": null,
   "metadata": {},
   "outputs": [],
   "source": [
    "log_reg.score('<compléter>')"
   ]
  },
  {
   "cell_type": "raw",
   "metadata": {},
   "source": [
    "Expected output:\n",
    "\n",
    "0.72"
   ]
  },
  {
   "cell_type": "markdown",
   "metadata": {},
   "source": [
    "### Q-42 : Contruire la table de contingence de la performance sur les prédictions (obs vs. predit)"
   ]
  },
  {
   "cell_type": "code",
   "execution_count": null,
   "metadata": {},
   "outputs": [],
   "source": [
    "pred = log_reg.predict(x_test)\n",
    "observed = y_test.reshape(1, -1)[0]\n",
    "\n",
    "ct = pd.'<compléter>'(observed, pred).reset_index(drop=True)\n",
    "ct"
   ]
  },
  {
   "cell_type": "raw",
   "metadata": {},
   "source": [
    "Expected output:\n",
    "\n",
    "col_0  0   1\n",
    "0      6   1\n",
    "1      6  12"
   ]
  },
  {
   "cell_type": "markdown",
   "metadata": {},
   "source": [
    "### Q-43 : Définir des fonctions permettant de renvoyer les métriques suivantes:\n",
    "\n",
    "* Accuracy\n",
    "* Precision\n",
    "* Recall\n",
    "* F1-score"
   ]
  },
  {
   "cell_type": "code",
   "execution_count": null,
   "metadata": {},
   "outputs": [],
   "source": [
    "###################################\n",
    "# Compléter les fonctions suivantes\n",
    "###################################\n",
    "\n",
    "def accuracy(observed, fitted):\n",
    "    \"\"\"Compute accurary, given observed and fitted values\"\"\"\n",
    "    pass\n",
    "\n",
    "def precision(observed, fitted):\n",
    "    \"\"\"Compute precision, given observed and fitted values\"\"\"\n",
    "    pass\n",
    "\n",
    "def recall(observed, fitted):\n",
    "    \"\"\"Compute recall, given observed and fitted values\"\"\"\n",
    "    pass\n",
    "\n",
    "def F1_score(observed, fitted):\n",
    "    \"\"\"Compute F1-score, given observed and fitted values\"\"\"\n",
    "    pass\n"
   ]
  },
  {
   "cell_type": "code",
   "execution_count": null,
   "metadata": {},
   "outputs": [],
   "source": [
    "print(\"Accuracy:\\t%.2f\" % accuracy(observed, pred))\n",
    "print(\"Precision:\\t%.2f\" % precision(observed, pred))\n",
    "print(\"Recall:\\t\\t%.2f\" % recall(observed, pred))\n",
    "print(\"F1-score:\\t%.2f\" % F1_score(observed, pred))"
   ]
  },
  {
   "cell_type": "raw",
   "metadata": {},
   "source": [
    "Expected outputs:\n",
    "    \n",
    "Accuracy:\t0.72\n",
    "Precision:\t0.92\n",
    "Recall:\t\t0.67\n",
    "F1-score:\t0.77"
   ]
  },
  {
   "cell_type": "markdown",
   "metadata": {},
   "source": [
    "### Q-44 : Calculer les probabilités <i>P(y = 1 | x)</i> à partir des coefficients de la régression"
   ]
  },
  {
   "cell_type": "code",
   "execution_count": null,
   "metadata": {},
   "outputs": [],
   "source": [
    "new_x = np.linspace(np.min(x), np.max(x), 100)\n",
    "\n",
    "b0, b1 = log_reg.'<compléter>', log_reg.'<compléter>'\n",
    "z = '<compléter>'\n",
    "prob = '<compléter>'\n",
    "prob[:10], prob[-10:]"
   ]
  },
  {
   "cell_type": "raw",
   "metadata": {},
   "source": [
    "Expected output:\n",
    "\n",
    "(array([0.97568396, 0.97370718, 0.97157439, 0.96927406, 0.96679393,\n",
    "        0.96412102, 0.96124158, 0.95814109, 0.95480423, 0.95121492]),\n",
    " array([0.02861292, 0.02646645, 0.02447696, 0.02263353, 0.02092597,\n",
    "        0.01934467, 0.01788069, 0.01652563, 0.01527167, 0.01411149]))"
   ]
  },
  {
   "cell_type": "markdown",
   "metadata": {},
   "source": [
    "### Q-45 : Représenter les données originales et la courbe de régression logistique"
   ]
  },
  {
   "cell_type": "code",
   "execution_count": null,
   "metadata": {},
   "outputs": [],
   "source": [
    "plt.scatter(x, y)\n",
    "'<compléter>'\n",
    "plt.show()"
   ]
  },
  {
   "cell_type": "markdown",
   "metadata": {},
   "source": [
    "#### Expected output:\n",
    "<img src='figures/log_reg_1.png?2'>"
   ]
  },
  {
   "cell_type": "markdown",
   "metadata": {},
   "source": [
    "<p style='text-align: center; font-weight: 900; font-size: 30px'>----------------------------------------</p>\n",
    "<p style='text-align: center; font-weight: 900; font-size: 30px'>Implémenter un KMeans de A à (from scratch)</p>\n",
    "<p style='text-align: center; font-weight: 900; font-size: 30px'>----------------------------------------</p>"
   ]
  },
  {
   "cell_type": "markdown",
   "metadata": {},
   "source": [
    "<p style='text-align: center; font-weight: 900; font-size: 30px'>----------------------------------------</p>\n",
    "<p style='text-align: center; font-weight: 900; font-size: 30px'>Etude de cas #1</p>\n",
    "<p style='text-align: center; font-weight: 900; font-size: 30px'>----------------------------------------</p>\n",
    "\n",
    "<p  style='font-weight: 600; font-size: 18px'>Un groupe leader des cosmétiques souhaite lancer une nouvelle crème de soin.</p>\n",
    "<p  style='font-weight: 600; font-size: 18px'>La phase de lancement du produit est maitrisée, et les réponses des consommateurs au push d'un nouveau produit sont relativemnt bien estimées. En revanche, il est plus difficile de prédire les niveaux de vente qui suivront, après les 2 à 3 semaines de promotion.</p>\n",
    "<p  style='font-weight: 600; font-size: 18px'>Dans ce contexte de mise sur le marché d'un nouveau produit, quelle(s) approche(s) pourriez-vous proposer afin d'estimer les niveaux de ventes de ce nouveau produit, après la phase de lancement. La production doit être plannifiée 2 semaines à l'avance.</p>\n",
    "\n"
   ]
  },
  {
   "cell_type": "raw",
   "metadata": {},
   "source": [
    "Vos propositions\n",
    "------------------\n",
    "\n",
    "\n"
   ]
  },
  {
   "cell_type": "markdown",
   "metadata": {},
   "source": [
    "<p style='text-align: center; font-weight: 900; font-size: 30px'>----------------------------------------</p>\n",
    "<p style='text-align: center; font-weight: 900; font-size: 30px'>Etude de cas #2</p>\n",
    "<p style='text-align: center; font-weight: 900; font-size: 30px'>----------------------------------------</p>\n",
    "\n",
    "### 3 datasets sont disponible au format .csv dans votre répertore data/\n",
    "\n",
    "#### * airports_full\n",
    "#### * flights_small\n",
    "#### * planes\n",
    "\n",
    "### 1 - Recherchez des informations sur ces données publiques pour comprendre le contenu de chaque champ\n",
    "\n",
    "#### Ressources possibles:\n",
    "\n",
    "#### * https://openflights.org/data.html#airline\n",
    "\n",
    "#### * https://cran.r-project.org/web/packages/nycflights13/nycflights13.pdf\n",
    "\n",
    "### 2 - Procédez à une analyse descriptive\n",
    "\n",
    "### 3 - Proposez un modèle prédictif des retards"
   ]
  },
  {
   "cell_type": "code",
   "execution_count": null,
   "metadata": {},
   "outputs": [],
   "source": [
    "#####################\n",
    "# Charger les données\n",
    "#####################\n",
    "import pandas as pd\n",
    "\n",
    "airports = pd.read_csv('data/airports_full.csv')\n",
    "flights = pd.read_csv('data/flights_small.csv')\n",
    "planes = pd.read_csv('data/planes.csv')"
   ]
  },
  {
   "cell_type": "code",
   "execution_count": null,
   "metadata": {},
   "outputs": [],
   "source": [
    "# Charger les librairies (choix libre)"
   ]
  }
 ],
 "metadata": {
  "kernelspec": {
   "display_name": "Python 3",
   "language": "python",
   "name": "python3"
  },
  "language_info": {
   "codemirror_mode": {
    "name": "ipython",
    "version": 3
   },
   "file_extension": ".py",
   "mimetype": "text/x-python",
   "name": "python",
   "nbconvert_exporter": "python",
   "pygments_lexer": "ipython3",
   "version": "3.6.6"
  }
 },
 "nbformat": 4,
 "nbformat_minor": 2
}
